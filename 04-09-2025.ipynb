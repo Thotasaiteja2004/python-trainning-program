{
  "nbformat": 4,
  "nbformat_minor": 0,
  "metadata": {
    "colab": {
      "provenance": [],
      "authorship_tag": "ABX9TyMyNfz+tz31Agb7flcBL4AR",
      "include_colab_link": true
    },
    "kernelspec": {
      "name": "python3",
      "display_name": "Python 3"
    },
    "language_info": {
      "name": "python"
    }
  },
  "cells": [
    {
      "cell_type": "markdown",
      "metadata": {
        "id": "view-in-github",
        "colab_type": "text"
      },
      "source": [
        "<a href=\"https://colab.research.google.com/github/Thotasaiteja2004/python-trainning-program/blob/main/04-09-2025.ipynb\" target=\"_parent\"><img src=\"https://colab.research.google.com/assets/colab-badge.svg\" alt=\"Open In Colab\"/></a>"
      ]
    },
    {
      "cell_type": "code",
      "execution_count": 2,
      "metadata": {
        "colab": {
          "base_uri": "https://localhost:8080/"
        },
        "id": "XOesGHCtA8Lp",
        "outputId": "3ca8ee5e-b5eb-4877-aa0b-2edabcf0ae80"
      },
      "outputs": [
        {
          "output_type": "stream",
          "name": "stdout",
          "text": [
            "30\n",
            "0\n",
            "2\n",
            "4\n",
            "6\n",
            "8\n",
            "10\n",
            "12\n",
            "14\n",
            "16\n",
            "18\n",
            "20\n",
            "22\n",
            "24\n",
            "26\n",
            "28\n",
            "30\n",
            "30 \n",
            "29 \n",
            "28 \n",
            "27 \n",
            "26 \n",
            "25 \n",
            "24 \n",
            "23 \n",
            "22 \n",
            "21 \n",
            "20 \n",
            "19 \n",
            "18 \n",
            "17 \n",
            "16 \n",
            "15 \n",
            "14 \n",
            "13 \n",
            "12 \n",
            "11 \n",
            "10 \n",
            "9 \n",
            "8 \n",
            "7 \n",
            "6 \n",
            "5 \n",
            "4 \n",
            "3 \n",
            "2 \n",
            "1 \n",
            "0 \n"
          ]
        }
      ],
      "source": [
        "n=int(input())\n",
        "for i in range(0,n+1,2):\n",
        "    print(i,end=\"\")\n",
        "    print()\n",
        "for i in range(n,-1,-1):\n",
        "    print(i,end=\" \")\n",
        "    print()\n",
        "\n",
        "\n",
        "\n",
        "\n"
      ]
    },
    {
      "cell_type": "code",
      "source": [
        "n=int(input())\n",
        "r=0\n",
        "f=n\n",
        "while(n!=0):\n",
        "    d=n%10\n",
        "    r=(r*10)+d\n",
        "    n=n//10\n",
        "if f==n:\n",
        "    print(\"palindrome\")\n",
        "else:\n",
        "    print(\"not a palindrome\")\n",
        "\n",
        "\n"
      ],
      "metadata": {
        "colab": {
          "base_uri": "https://localhost:8080/"
        },
        "id": "e6yPwHVuBA1C",
        "outputId": "b9ccfff6-350a-4bf5-b6d1-529a6ad57b09"
      },
      "execution_count": 3,
      "outputs": [
        {
          "output_type": "stream",
          "name": "stdout",
          "text": [
            "121\n",
            "not a palindrome\n"
          ]
        }
      ]
    },
    {
      "cell_type": "code",
      "source": [
        "n=int(input(\"enter n value : \"))\n",
        "rev,rem=0,0\n",
        "while n:\n",
        "    rem=n%10\n",
        "    rev=rev*10+rem\n",
        "    n=n//10\n",
        "    print(rev)\n",
        "\n"
      ],
      "metadata": {
        "colab": {
          "base_uri": "https://localhost:8080/"
        },
        "id": "KM-qdOiJBWJX",
        "outputId": "1d6fc199-4869-45fd-8ffd-da5972850c50"
      },
      "execution_count": 4,
      "outputs": [
        {
          "output_type": "stream",
          "name": "stdout",
          "text": [
            "enter n value : 10\n",
            "0\n",
            "1\n"
          ]
        }
      ]
    },
    {
      "cell_type": "code",
      "source": [
        "n=int(input(\"enter n value: \"))\n",
        "frist,next=0,1\n",
        "print(frist,next,end=\"\")\n",
        "for i in range(2,n):\n",
        "    sum=frist+next\n",
        "    print(sum,end=\"\")\n",
        "    frist=next\n",
        "    next=sum\n"
      ],
      "metadata": {
        "colab": {
          "base_uri": "https://localhost:8080/"
        },
        "id": "E07rQE-mBbCF",
        "outputId": "5e3861fa-1e5e-467c-f31c-58ab50c32d08"
      },
      "execution_count": 5,
      "outputs": [
        {
          "output_type": "stream",
          "name": "stdout",
          "text": [
            "enter n value: 15\n",
            "0 1123581321345589144233377"
          ]
        }
      ]
    },
    {
      "cell_type": "code",
      "source": [
        "n=int(input(\"enter n value : \"))\n",
        "fact = 1\n",
        "for i in range (1,n+1):\n",
        "  fact=fact * i\n",
        "print(fact)"
      ],
      "metadata": {
        "colab": {
          "base_uri": "https://localhost:8080/"
        },
        "id": "hwlcRgd7Bg5g",
        "outputId": "3c98f1ba-0a57-49a8-a46f-a5bc079ce238"
      },
      "execution_count": 13,
      "outputs": [
        {
          "output_type": "stream",
          "name": "stdout",
          "text": [
            "enter n value : 5\n",
            "120\n"
          ]
        }
      ]
    },
    {
      "cell_type": "code",
      "source": [
        "n = int(input(\"enter the number: \"))\n",
        "sum=0\n",
        "for i in range(1,n+1):\n",
        "  sum=sum+i\n",
        "  print(sum)"
      ],
      "metadata": {
        "colab": {
          "base_uri": "https://localhost:8080/"
        },
        "id": "xnc0IRrdDlMW",
        "outputId": "78606043-63ea-4942-bf0f-9d27e812a2dc"
      },
      "execution_count": 16,
      "outputs": [
        {
          "output_type": "stream",
          "name": "stdout",
          "text": [
            "enter the number: 5\n",
            "1\n",
            "3\n",
            "6\n",
            "10\n",
            "15\n"
          ]
        }
      ]
    },
    {
      "cell_type": "code",
      "source": [
        "n=int(input())\n",
        "count=0\n",
        "for i in range(1,n+1):\n",
        "  if n%i==0:\n",
        "    count=count+1\n",
        "if count==2:\n",
        "  print(\"prime number\")\n",
        "else:\n",
        "  print(\"not a prime number\")\n"
      ],
      "metadata": {
        "colab": {
          "base_uri": "https://localhost:8080/"
        },
        "id": "9ymXUMhBE9iO",
        "outputId": "1f79223a-22dd-43cd-dfe7-a6e6cabec81d"
      },
      "execution_count": 19,
      "outputs": [
        {
          "output_type": "stream",
          "name": "stdout",
          "text": [
            "9\n",
            "not a prime number\n"
          ]
        }
      ]
    },
    {
      "cell_type": "code",
      "source": [
        "n=int(input())\n",
        "times=0\n",
        "temp=0\n",
        "for i in range(2,n):\n",
        "  times+=1\n",
        "  if n%i==0:\n",
        "    temp=1\n",
        "    break\n",
        "  print(\"times:\",times)\n",
        "  if temp==0:\n",
        "    print(f\"{n} is prime\")\n",
        "  else:\n",
        "    print(f\"{n} is not a prime\")"
      ],
      "metadata": {
        "colab": {
          "base_uri": "https://localhost:8080/"
        },
        "id": "cSNMg7SiI7We",
        "outputId": "d05e943c-a6f2-4166-def8-7c928ce16114"
      },
      "execution_count": 20,
      "outputs": [
        {
          "output_type": "stream",
          "name": "stdout",
          "text": [
            "5\n",
            "times: 1\n",
            "5 is prime\n",
            "times: 2\n",
            "5 is prime\n",
            "times: 3\n",
            "5 is prime\n"
          ]
        }
      ]
    },
    {
      "cell_type": "code",
      "source": [
        "for i in range(1,6):\n",
        "  for j in range(1,9):\n",
        "    print(i,end=\"\")\n",
        "  print()"
      ],
      "metadata": {
        "colab": {
          "base_uri": "https://localhost:8080/"
        },
        "id": "bJ4tjcLxM8_O",
        "outputId": "d3e0ab48-c3c7-4975-aebe-75f94b2b4e96"
      },
      "execution_count": 24,
      "outputs": [
        {
          "output_type": "stream",
          "name": "stdout",
          "text": [
            "11111111\n",
            "22222222\n",
            "33333333\n",
            "44444444\n",
            "55555555\n"
          ]
        }
      ]
    },
    {
      "cell_type": "code",
      "source": [
        "count=0\n",
        "a = \"i love You\"\n",
        "for i in range(1,6):\n",
        "  count = 0\n",
        "  for j in range(0,i):\n",
        "    print(a[count],end=\"\")\n",
        "    count +=1\n",
        "  print()"
      ],
      "metadata": {
        "colab": {
          "base_uri": "https://localhost:8080/"
        },
        "id": "DZuYGWdARIB_",
        "outputId": "f107a9c4-14aa-49be-d09c-1270b1075215"
      },
      "execution_count": 33,
      "outputs": [
        {
          "output_type": "stream",
          "name": "stdout",
          "text": [
            "i\n",
            "i \n",
            "i l\n",
            "i lo\n",
            "i lov\n"
          ]
        }
      ]
    }
  ]
}